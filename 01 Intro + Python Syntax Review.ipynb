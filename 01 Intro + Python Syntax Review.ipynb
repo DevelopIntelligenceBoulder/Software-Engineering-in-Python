{
 "cells": [
  {
   "cell_type": "markdown",
   "metadata": {
    "collapsed": true,
    "slideshow": {
     "slide_type": "slide"
    }
   },
   "source": [
    "# Software Engineering in Python\n",
    "\n",
    "### Dave Wade-Stein  \n",
    "### dave@developintelligence.com  "
   ]
  },
  {
   "cell_type": "markdown",
   "metadata": {
    "collapsed": true,
    "slideshow": {
     "slide_type": "subslide"
    }
   },
   "source": [
    "# Schedule\n",
    "* Class time: 8-4 Central\n",
    "* Lunch: 12-1 Central\n",
    " * (or we could shorten lunch to 30 mins. and finish at 3:30 Central)"
   ]
  },
  {
   "cell_type": "markdown",
   "metadata": {
    "slideshow": {
     "slide_type": "subslide"
    }
   },
   "source": [
    "# Agenda\n",
    "* Introduction\n",
    "* Python review (as needed)\n",
    "* Documentation\n",
    "* Object-Oriented Python\n",
    "* Advanced Datatypes\n",
    "* Functional Programming (brief discussion)\n",
    "* Decorators\n",
    "* Object-Oriented Redux\n",
    "* Iterables, Iterators, and Generators\n",
    "* Multithreading and Multiprocessing (NIO)\n",
    "* Testing\n",
    "* Logging\n",
    "* Debugging\n",
    "* Context Managers\n",
    "* Virtual Environments\n",
    "* Type Hinting\n",
    "* Linting / PEP-8\n",
    "* Git Overview (Time Permitting)"
   ]
  },
  {
   "cell_type": "markdown",
   "metadata": {
    "slideshow": {
     "slide_type": "subslide"
    }
   },
   "source": [
    "## About You and Me\n",
    "* What is your job title/what do you do?\n",
    "* What do you want to get out of the course?\n",
    "* What's your programming/Python background?\n",
    "* What TV show are you binge watching?\n",
    " * or...Fun Fact about Yourself"
   ]
  },
  {
   "cell_type": "markdown",
   "metadata": {
    "slideshow": {
     "slide_type": "subslide"
    }
   },
   "source": [
    "# We will be working with Python 3\n",
    "1. install Python 3 if you have not already\n",
    " * go to https://www.python.org\n",
    "\n",
    "* install Jupyter (__`sudo pip3 install jupyter`__)\n",
    "* this will allow you to run/edit Jupyter notebooks locally\n",
    "  * if you're having trouble installing Jupyter, the notebooks can be run/edited at http://tmpnb.org\n",
    "* I recommend you work in a Jupyter notebook, IDLE, or PyCharm\n"
   ]
  },
  {
   "cell_type": "markdown",
   "metadata": {
    "slideshow": {
     "slide_type": "slide"
    }
   },
   "source": [
    "# Python Syntax Review\n",
    "* [link to Lists!](http://"
   ]
  }
 ],
 "metadata": {
  "celltoolbar": "Slideshow",
  "kernelspec": {
   "display_name": "Python 3",
   "language": "python",
   "name": "python3"
  },
  "language_info": {
   "codemirror_mode": {
    "name": "ipython",
    "version": 3
   },
   "file_extension": ".py",
   "mimetype": "text/x-python",
   "name": "python",
   "nbconvert_exporter": "python",
   "pygments_lexer": "ipython3",
   "version": "3.7.0"
  }
 },
 "nbformat": 4,
 "nbformat_minor": 1
}
